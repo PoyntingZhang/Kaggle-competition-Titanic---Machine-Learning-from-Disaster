{
  "metadata": {
    "kernelspec": {
      "language": "python",
      "display_name": "Python 3",
      "name": "python3"
    },
    "language_info": {
      "name": "python",
      "version": "3.10.13",
      "mimetype": "text/x-python",
      "codemirror_mode": {
        "name": "ipython",
        "version": 3
      },
      "pygments_lexer": "ipython3",
      "nbconvert_exporter": "python",
      "file_extension": ".py"
    },
    "kaggle": {
      "accelerator": "none",
      "dataSources": [
        {
          "sourceId": 3136,
          "databundleVersionId": 26502,
          "sourceType": "competition"
        }
      ],
      "dockerImageVersionId": 30732,
      "isInternetEnabled": false,
      "language": "python",
      "sourceType": "notebook",
      "isGpuEnabled": false
    },
    "colab": {
      "name": "notes 1",
      "provenance": []
    }
  },
  "nbformat_minor": 0,
  "nbformat": 4,
  "cells": [
    {
      "source": [
        "\n",
        "# IMPORTANT: RUN THIS CELL IN ORDER TO IMPORT YOUR KAGGLE DATA SOURCES\n",
        "# TO THE CORRECT LOCATION (/kaggle/input) IN YOUR NOTEBOOK,\n",
        "# THEN FEEL FREE TO DELETE THIS CELL.\n",
        "# NOTE: THIS NOTEBOOK ENVIRONMENT DIFFERS FROM KAGGLE'S PYTHON\n",
        "# ENVIRONMENT SO THERE MAY BE MISSING LIBRARIES USED BY YOUR\n",
        "# NOTEBOOK.\n",
        "\n",
        "import os\n",
        "import sys\n",
        "from tempfile import NamedTemporaryFile\n",
        "from urllib.request import urlopen\n",
        "from urllib.parse import unquote, urlparse\n",
        "from urllib.error import HTTPError\n",
        "from zipfile import ZipFile\n",
        "import tarfile\n",
        "import shutil\n",
        "\n",
        "CHUNK_SIZE = 40960\n",
        "DATA_SOURCE_MAPPING = 'titanic:https%3A%2F%2Fstorage.googleapis.com%2Fkaggle-competitions-data%2Fkaggle-v2%2F3136%2F26502%2Fbundle%2Farchive.zip%3FX-Goog-Algorithm%3DGOOG4-RSA-SHA256%26X-Goog-Credential%3Dgcp-kaggle-com%2540kaggle-161607.iam.gserviceaccount.com%252F20240711%252Fauto%252Fstorage%252Fgoog4_request%26X-Goog-Date%3D20240711T032915Z%26X-Goog-Expires%3D259200%26X-Goog-SignedHeaders%3Dhost%26X-Goog-Signature%3D5ba891bde3d6c0d0042a8ecd58ea80c52b6d155e3c1bb2530273e8218b992dd54c93853cd812fa042ce575a957733ea18f1637763c7d31d5ca32480aecdd62ae1d23c46c55026b3dce142c805b8af9fbf774f659df04bf3ce0b3286f436a301fc032129a310c768a4015e876c85cf6d1d25e75f6426a43287944711e7e4e4d67c38c085fe201ae3abeaa1bec84bf50a69177d5ea506335aba7c545fbab7b6be10f1f1be00bc7a968291b412474b1a8f454a679074063c526abd85b369e2745e0de4099b2b94e7c44a671dafeaf0b13a88794fde89338258c2b5dd813b3bb3eca604282180a26c21fc89378b060050bfc0f9c37ff80d92d4e577ffa35faeeb690'\n",
        "\n",
        "KAGGLE_INPUT_PATH='/kaggle/input'\n",
        "KAGGLE_WORKING_PATH='/kaggle/working'\n",
        "KAGGLE_SYMLINK='kaggle'\n",
        "\n",
        "!umount /kaggle/input/ 2> /dev/null\n",
        "shutil.rmtree('/kaggle/input', ignore_errors=True)\n",
        "os.makedirs(KAGGLE_INPUT_PATH, 0o777, exist_ok=True)\n",
        "os.makedirs(KAGGLE_WORKING_PATH, 0o777, exist_ok=True)\n",
        "\n",
        "try:\n",
        "  os.symlink(KAGGLE_INPUT_PATH, os.path.join(\"..\", 'input'), target_is_directory=True)\n",
        "except FileExistsError:\n",
        "  pass\n",
        "try:\n",
        "  os.symlink(KAGGLE_WORKING_PATH, os.path.join(\"..\", 'working'), target_is_directory=True)\n",
        "except FileExistsError:\n",
        "  pass\n",
        "\n",
        "for data_source_mapping in DATA_SOURCE_MAPPING.split(','):\n",
        "    directory, download_url_encoded = data_source_mapping.split(':')\n",
        "    download_url = unquote(download_url_encoded)\n",
        "    filename = urlparse(download_url).path\n",
        "    destination_path = os.path.join(KAGGLE_INPUT_PATH, directory)\n",
        "    try:\n",
        "        with urlopen(download_url) as fileres, NamedTemporaryFile() as tfile:\n",
        "            total_length = fileres.headers['content-length']\n",
        "            print(f'Downloading {directory}, {total_length} bytes compressed')\n",
        "            dl = 0\n",
        "            data = fileres.read(CHUNK_SIZE)\n",
        "            while len(data) > 0:\n",
        "                dl += len(data)\n",
        "                tfile.write(data)\n",
        "                done = int(50 * dl / int(total_length))\n",
        "                sys.stdout.write(f\"\\r[{'=' * done}{' ' * (50-done)}] {dl} bytes downloaded\")\n",
        "                sys.stdout.flush()\n",
        "                data = fileres.read(CHUNK_SIZE)\n",
        "            if filename.endswith('.zip'):\n",
        "              with ZipFile(tfile) as zfile:\n",
        "                zfile.extractall(destination_path)\n",
        "            else:\n",
        "              with tarfile.open(tfile.name) as tarfile:\n",
        "                tarfile.extractall(destination_path)\n",
        "            print(f'\\nDownloaded and uncompressed: {directory}')\n",
        "    except HTTPError as e:\n",
        "        print(f'Failed to load (likely expired) {download_url} to path {destination_path}')\n",
        "        continue\n",
        "    except OSError as e:\n",
        "        print(f'Failed to load {download_url} to path {destination_path}')\n",
        "        continue\n",
        "\n",
        "print('Data source import complete.')\n"
      ],
      "metadata": {
        "id": "vZ8jVC6K1pWc"
      },
      "cell_type": "code",
      "outputs": [],
      "execution_count": null
    },
    {
      "cell_type": "code",
      "source": [
        "# This Python 3 environment comes with many helpful analytics libraries installed\n",
        "# It is defined by the kaggle/python Docker image: https://github.com/kaggle/docker-python\n",
        "# For example, here's several helpful packages to load\n",
        "\n",
        "import numpy as np # linear algebra\n",
        "import pandas as pd # data processing, CSV file I/O (e.g. pd.read_csv)\n",
        "\n",
        "# Input data files are available in the read-only \"../input/\" directory\n",
        "# For example, running this (by clicking run or pressing Shift+Enter) will list all files under the input directory\n",
        "\n",
        "import os\n",
        "for dirname, _, filenames in os.walk('/kaggle/input'):\n",
        "    for filename in filenames:\n",
        "        print(os.path.join(dirname, filename))\n",
        "\n",
        "\n",
        "# You can write up to 20GB to the current directory (/kaggle/working/) that gets preserved as output when you create a version using \"Save & Run All\"\n",
        "# You can also write temporary files to /kaggle/temp/, but they won't be saved outside of the current session"
      ],
      "metadata": {
        "_uuid": "8f2839f25d086af736a60e9eeb907d3b93b6e0e5",
        "_cell_guid": "b1076dfc-b9ad-4769-8c92-a6c4dae69d19",
        "execution": {
          "iopub.status.busy": "2024-07-09T11:05:23.529589Z",
          "iopub.execute_input": "2024-07-09T11:05:23.530378Z",
          "iopub.status.idle": "2024-07-09T11:05:23.537585Z",
          "shell.execute_reply.started": "2024-07-09T11:05:23.530345Z",
          "shell.execute_reply": "2024-07-09T11:05:23.536484Z"
        },
        "trusted": true,
        "id": "IFSt0YEo1pWf"
      },
      "execution_count": null,
      "outputs": []
    },
    {
      "cell_type": "code",
      "source": [
        "train_data = pd.read_csv(\"/kaggle/input/titanic/train.csv\")\n",
        "train_data.head()\n",
        "\n"
      ],
      "metadata": {
        "execution": {
          "iopub.status.busy": "2024-07-09T10:54:44.36672Z",
          "iopub.execute_input": "2024-07-09T10:54:44.367141Z",
          "iopub.status.idle": "2024-07-09T10:54:44.388988Z",
          "shell.execute_reply.started": "2024-07-09T10:54:44.36711Z",
          "shell.execute_reply": "2024-07-09T10:54:44.387873Z"
        },
        "trusted": true,
        "id": "3DDwe_Y71pWg"
      },
      "execution_count": null,
      "outputs": []
    },
    {
      "cell_type": "code",
      "source": [
        "test_data = pd.read_csv(\"/kaggle/input/titanic/test.csv\")\n",
        "test_data.head()\n",
        "\n",
        "\n"
      ],
      "metadata": {
        "execution": {
          "iopub.status.busy": "2024-07-09T11:05:28.812794Z",
          "iopub.execute_input": "2024-07-09T11:05:28.813818Z",
          "iopub.status.idle": "2024-07-09T11:05:28.834751Z",
          "shell.execute_reply.started": "2024-07-09T11:05:28.813779Z",
          "shell.execute_reply": "2024-07-09T11:05:28.833619Z"
        },
        "trusted": true,
        "id": "SqFSyHrU1pWg"
      },
      "execution_count": null,
      "outputs": []
    },
    {
      "cell_type": "code",
      "source": [
        "women = train_data.loc[train_data.Sex == 'female'][\"Survived\"]\n",
        "rate_women = sum(women)/len(women)\n",
        "\n",
        "print(\"% of women who survived:\", rate_women)\n",
        "\n"
      ],
      "metadata": {
        "execution": {
          "iopub.status.busy": "2024-07-09T11:05:32.492221Z",
          "iopub.execute_input": "2024-07-09T11:05:32.492606Z",
          "iopub.status.idle": "2024-07-09T11:05:32.499966Z",
          "shell.execute_reply.started": "2024-07-09T11:05:32.492576Z",
          "shell.execute_reply": "2024-07-09T11:05:32.498729Z"
        },
        "trusted": true,
        "id": "zFylXYaL1pWg"
      },
      "execution_count": null,
      "outputs": []
    },
    {
      "cell_type": "code",
      "source": [
        "men = train_data.loc[train_data.Sex == 'male'][\"Survived\"]\n",
        "rate_men = sum(men)/len(men)\n",
        "\n",
        "print(\"% of men who survived:\", rate_men)"
      ],
      "metadata": {
        "execution": {
          "iopub.status.busy": "2024-07-09T11:05:34.621558Z",
          "iopub.execute_input": "2024-07-09T11:05:34.622587Z",
          "iopub.status.idle": "2024-07-09T11:05:34.630309Z",
          "shell.execute_reply.started": "2024-07-09T11:05:34.622553Z",
          "shell.execute_reply": "2024-07-09T11:05:34.629097Z"
        },
        "trusted": true,
        "id": "YWHOdEhP1pWh"
      },
      "execution_count": null,
      "outputs": []
    },
    {
      "cell_type": "markdown",
      "source": [
        "## Data manipulation"
      ],
      "metadata": {
        "id": "-xqzDxmZ1pWh"
      }
    },
    {
      "cell_type": "code",
      "source": [
        "\n",
        "\n",
        "# extracting columns corresponds to the features of interest\n",
        "y = train_data[\"Survived\"]\n",
        "features=[\"Pclass\",\"Sex\", \"SibSp\", \"Parch\",\"Fare\",\"Age\"]\n",
        "X = pd.get_dummies(train_data[features])\n",
        "X_test = pd.get_dummies(test_data[features])\n",
        "print(X_test.head())\n",
        "\n",
        "\n"
      ],
      "metadata": {
        "execution": {
          "iopub.status.busy": "2024-07-09T11:05:36.97677Z",
          "iopub.execute_input": "2024-07-09T11:05:36.978014Z",
          "iopub.status.idle": "2024-07-09T11:05:36.995089Z",
          "shell.execute_reply.started": "2024-07-09T11:05:36.977973Z",
          "shell.execute_reply": "2024-07-09T11:05:36.993988Z"
        },
        "trusted": true,
        "id": "uEzbe-CZ1pWi"
      },
      "execution_count": null,
      "outputs": []
    },
    {
      "cell_type": "code",
      "source": [
        "# replacing the nan value with the mean value\n",
        "from sklearn.impute import SimpleImputer\n",
        "\n",
        "imputer = SimpleImputer(strategy='mean')\n",
        "X_imputed = imputer.fit_transform(X)\n",
        "X_imputed = pd.DataFrame(X_imputed, columns=X.columns)\n",
        "X_test_imputed=imputer.fit_transform(X_test)\n",
        "X_test_imputed=pd.DataFrame(X_test_imputed, columns=X_test.columns)\n"
      ],
      "metadata": {
        "execution": {
          "iopub.status.busy": "2024-07-09T11:05:46.642669Z",
          "iopub.execute_input": "2024-07-09T11:05:46.643049Z",
          "iopub.status.idle": "2024-07-09T11:05:46.660368Z",
          "shell.execute_reply.started": "2024-07-09T11:05:46.643022Z",
          "shell.execute_reply": "2024-07-09T11:05:46.659268Z"
        },
        "trusted": true,
        "id": "ZmZ0tUTw1pWj"
      },
      "execution_count": null,
      "outputs": []
    },
    {
      "cell_type": "markdown",
      "source": [
        "## Adjusting the parameters\n"
      ],
      "metadata": {
        "id": "MUA0qgfu1pWj"
      }
    },
    {
      "cell_type": "code",
      "source": [
        "from sklearn.ensemble import RandomForestClassifier\n",
        "from sklearn.model_selection import GridSearchCV\n",
        "from sklearn.model_selection import train_test_split\n",
        "from sklearn import metrics\n",
        "import matplotlib.pyplot as plt\n",
        "import warnings\n",
        "model = RandomForestClassifier()\n",
        "\n",
        "parameters = {'n_estimators': [200],'max_depth':[3,4,5],\n",
        "              'min_samples_leaf':[5],'max_features':[2,3,4]}\n",
        "grid_model=GridSearchCV(model,parameters,scoring='f1_macro')\n",
        "\n",
        "grid_model.fit(X_imputed,y)\n",
        "print(grid_model.best_params_)\n",
        "print(grid_model.best_score_)\n"
      ],
      "metadata": {
        "execution": {
          "iopub.status.busy": "2024-07-09T11:06:15.385622Z",
          "iopub.execute_input": "2024-07-09T11:06:15.38602Z",
          "iopub.status.idle": "2024-07-09T11:06:32.817414Z",
          "shell.execute_reply.started": "2024-07-09T11:06:15.385993Z",
          "shell.execute_reply": "2024-07-09T11:06:32.8161Z"
        },
        "trusted": true,
        "id": "uvelgDle1pWj"
      },
      "execution_count": null,
      "outputs": []
    },
    {
      "cell_type": "markdown",
      "source": [
        "## Train model with parameters obtained\n"
      ],
      "metadata": {
        "id": "fnR97wh11pWj"
      }
    },
    {
      "cell_type": "code",
      "source": [
        "model_param=RandomForestClassifier(n_estimators= 200,max_depth= 4,max_features= 3,min_samples_leaf=5)\n",
        "model_param.fit(X_imputed,y)\n",
        "\n"
      ],
      "metadata": {
        "execution": {
          "iopub.status.busy": "2024-07-09T11:06:58.444863Z",
          "iopub.execute_input": "2024-07-09T11:06:58.445291Z",
          "iopub.status.idle": "2024-07-09T11:06:58.833129Z",
          "shell.execute_reply.started": "2024-07-09T11:06:58.445258Z",
          "shell.execute_reply": "2024-07-09T11:06:58.831843Z"
        },
        "trusted": true,
        "id": "kjkC01fn1pWk"
      },
      "execution_count": null,
      "outputs": []
    },
    {
      "cell_type": "markdown",
      "source": [
        "## generating predictions"
      ],
      "metadata": {
        "id": "UCGIZlFa1pWk"
      }
    },
    {
      "cell_type": "code",
      "source": [
        "predictions=model_param.predict(X_test_imputed)\n",
        "output = pd.DataFrame({'PassengerId': test_data.PassengerId, 'Survived': predictions})\n",
        "output.to_csv('submission.csv_15', index=False)\n",
        "print(\"Your submission was successfully saved!\")"
      ],
      "metadata": {
        "execution": {
          "iopub.status.busy": "2024-07-09T11:07:00.803472Z",
          "iopub.execute_input": "2024-07-09T11:07:00.804275Z",
          "iopub.status.idle": "2024-07-09T11:07:00.832495Z",
          "shell.execute_reply.started": "2024-07-09T11:07:00.804242Z",
          "shell.execute_reply": "2024-07-09T11:07:00.831456Z"
        },
        "trusted": true,
        "id": "fuHEPjjj1pWk"
      },
      "execution_count": null,
      "outputs": []
    },
    {
      "cell_type": "code",
      "source": [],
      "metadata": {
        "id": "FNWiS0fE1pWk"
      },
      "execution_count": null,
      "outputs": []
    }
  ]
}